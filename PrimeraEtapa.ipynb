{
 "cells": [
  {
   "cell_type": "code",


   "execution_count": 3,

   "id": "f7c147dc",
   "metadata": {},
   "outputs": [
    {
     "data": {
      "text/html": [
       "<div>\n",
       "<style scoped>\n",
       "    .dataframe tbody tr th:only-of-type {\n",
       "        vertical-align: middle;\n",
       "    }\n",
       "\n",
       "    .dataframe tbody tr th {\n",
       "        vertical-align: top;\n",
       "    }\n",
       "\n",
       "    .dataframe thead th {\n",
       "        text-align: right;\n",
       "    }\n",
       "</style>\n",
       "<table border=\"1\" class=\"dataframe\">\n",
       "  <thead>\n",
       "    <tr style=\"text-align: right;\">\n",
       "      <th></th>\n",
       "      <th>Precio de Venta (pesos)</th>\n",
       "      <th>Antigüedad (en años)</th>\n",
       "      <th>Kilometraje (miles)</th>\n",
       "      <th>Condición (Promedio)</th>\n",
       "      <th>Excelente</th>\n",
       "      <th>Único Dueño</th>\n",
       "    </tr>\n",
       "  </thead>\n",
       "  <tbody>\n",
       "    <tr>\n",
       "      <th>0</th>\n",
       "      <td>60000</td>\n",
       "      <td>9</td>\n",
       "      <td>112</td>\n",
       "      <td>1</td>\n",
       "      <td>0</td>\n",
       "      <td>1</td>\n",
       "    </tr>\n",
       "    <tr>\n",
       "      <th>1</th>\n",
       "      <td>54000</td>\n",
       "      <td>9</td>\n",
       "      <td>159</td>\n",
       "      <td>0</td>\n",
       "      <td>0</td>\n",
       "      <td>1</td>\n",
       "    </tr>\n",
       "    <tr>\n",
       "      <th>2</th>\n",
       "      <td>59900</td>\n",
       "      <td>8</td>\n",
       "      <td>192</td>\n",
       "      <td>0</td>\n",
       "      <td>0</td>\n",
       "      <td>1</td>\n",
       "    </tr>\n",
       "    <tr>\n",
       "      <th>3</th>\n",
       "      <td>110000</td>\n",
       "      <td>7</td>\n",
       "      <td>90</td>\n",
       "      <td>1</td>\n",
       "      <td>0</td>\n",
       "      <td>0</td>\n",
       "    </tr>\n",
       "    <tr>\n",
       "      <th>4</th>\n",
       "      <td>79760</td>\n",
       "      <td>7</td>\n",
       "      <td>80</td>\n",
       "      <td>0</td>\n",
       "      <td>0</td>\n",
       "      <td>1</td>\n",
       "    </tr>\n",
       "    <tr>\n",
       "      <th>5</th>\n",
       "      <td>78000</td>\n",
       "      <td>7</td>\n",
       "      <td>133</td>\n",
       "      <td>0</td>\n",
       "      <td>0</td>\n",
       "      <td>1</td>\n",
       "    </tr>\n",
       "    <tr>\n",
       "      <th>6</th>\n",
       "      <td>56000</td>\n",
       "      <td>7</td>\n",
       "      <td>170</td>\n",
       "      <td>0</td>\n",
       "      <td>0</td>\n",
       "      <td>1</td>\n",
       "    </tr>\n",
       "    <tr>\n",
       "      <th>7</th>\n",
       "      <td>136000</td>\n",
       "      <td>6</td>\n",
       "      <td>112</td>\n",
       "      <td>0</td>\n",
       "      <td>1</td>\n",
       "      <td>0</td>\n",
       "    </tr>\n",
       "    <tr>\n",
       "      <th>8</th>\n",
       "      <td>125900</td>\n",
       "      <td>6</td>\n",
       "      <td>106</td>\n",
       "      <td>1</td>\n",
       "      <td>0</td>\n",
       "      <td>0</td>\n",
       "    </tr>\n",
       "    <tr>\n",
       "      <th>9</th>\n",
       "      <td>74000</td>\n",
       "      <td>6</td>\n",
       "      <td>96</td>\n",
       "      <td>0</td>\n",
       "      <td>0</td>\n",
       "      <td>1</td>\n",
       "    </tr>\n",
       "    <tr>\n",
       "      <th>10</th>\n",
       "      <td>149000</td>\n",
       "      <td>5</td>\n",
       "      <td>88</td>\n",
       "      <td>1</td>\n",
       "      <td>0</td>\n",
       "      <td>0</td>\n",
       "    </tr>\n",
       "    <tr>\n",
       "      <th>11</th>\n",
       "      <td>136000</td>\n",
       "      <td>5</td>\n",
       "      <td>108</td>\n",
       "      <td>0</td>\n",
       "      <td>0</td>\n",
       "      <td>1</td>\n",
       "    </tr>\n",
       "    <tr>\n",
       "      <th>12</th>\n",
       "      <td>135900</td>\n",
       "      <td>5</td>\n",
       "      <td>100</td>\n",
       "      <td>1</td>\n",
       "      <td>0</td>\n",
       "      <td>1</td>\n",
       "    </tr>\n",
       "    <tr>\n",
       "      <th>13</th>\n",
       "      <td>129520</td>\n",
       "      <td>5</td>\n",
       "      <td>96</td>\n",
       "      <td>0</td>\n",
       "      <td>0</td>\n",
       "      <td>1</td>\n",
       "    </tr>\n",
       "    <tr>\n",
       "      <th>14</th>\n",
       "      <td>129000</td>\n",
       "      <td>5</td>\n",
       "      <td>88</td>\n",
       "      <td>0</td>\n",
       "      <td>0</td>\n",
       "      <td>1</td>\n",
       "    </tr>\n",
       "    <tr>\n",
       "      <th>15</th>\n",
       "      <td>96000</td>\n",
       "      <td>5</td>\n",
       "      <td>120</td>\n",
       "      <td>0</td>\n",
       "      <td>0</td>\n",
       "      <td>1</td>\n",
       "    </tr>\n",
       "    <tr>\n",
       "      <th>16</th>\n",
       "      <td>193900</td>\n",
       "      <td>4</td>\n",
       "      <td>71</td>\n",
       "      <td>1</td>\n",
       "      <td>0</td>\n",
       "      <td>0</td>\n",
       "    </tr>\n",
       "    <tr>\n",
       "      <th>17</th>\n",
       "      <td>193500</td>\n",
       "      <td>4</td>\n",
       "      <td>60</td>\n",
       "      <td>0</td>\n",
       "      <td>1</td>\n",
       "      <td>0</td>\n",
       "    </tr>\n",
       "    <tr>\n",
       "      <th>18</th>\n",
       "      <td>191900</td>\n",
       "      <td>4</td>\n",
       "      <td>71</td>\n",
       "      <td>1</td>\n",
       "      <td>0</td>\n",
       "      <td>1</td>\n",
       "    </tr>\n",
       "    <tr>\n",
       "      <th>19</th>\n",
       "      <td>170000</td>\n",
       "      <td>4</td>\n",
       "      <td>88</td>\n",
       "      <td>1</td>\n",
       "      <td>0</td>\n",
       "      <td>1</td>\n",
       "    </tr>\n",
       "    <tr>\n",
       "      <th>20</th>\n",
       "      <td>159900</td>\n",
       "      <td>4</td>\n",
       "      <td>74</td>\n",
       "      <td>0</td>\n",
       "      <td>0</td>\n",
       "      <td>1</td>\n",
       "    </tr>\n",
       "    <tr>\n",
       "      <th>21</th>\n",
       "      <td>139900</td>\n",
       "      <td>4</td>\n",
       "      <td>90</td>\n",
       "      <td>0</td>\n",
       "      <td>0</td>\n",
       "      <td>1</td>\n",
       "    </tr>\n",
       "    <tr>\n",
       "      <th>22</th>\n",
       "      <td>129000</td>\n",
       "      <td>4</td>\n",
       "      <td>104</td>\n",
       "      <td>0</td>\n",
       "      <td>0</td>\n",
       "      <td>1</td>\n",
       "    </tr>\n",
       "    <tr>\n",
       "      <th>23</th>\n",
       "      <td>287000</td>\n",
       "      <td>3</td>\n",
       "      <td>47</td>\n",
       "      <td>0</td>\n",
       "      <td>1</td>\n",
       "      <td>0</td>\n",
       "    </tr>\n",
       "    <tr>\n",
       "      <th>24</th>\n",
       "      <td>239300</td>\n",
       "      <td>3</td>\n",
       "      <td>37</td>\n",
       "      <td>0</td>\n",
       "      <td>0</td>\n",
       "      <td>0</td>\n",
       "    </tr>\n",
       "    <tr>\n",
       "      <th>25</th>\n",
       "      <td>237000</td>\n",
       "      <td>3</td>\n",
       "      <td>44</td>\n",
       "      <td>0</td>\n",
       "      <td>1</td>\n",
       "      <td>0</td>\n",
       "    </tr>\n",
       "    <tr>\n",
       "      <th>26</th>\n",
       "      <td>220000</td>\n",
       "      <td>3</td>\n",
       "      <td>50</td>\n",
       "      <td>1</td>\n",
       "      <td>0</td>\n",
       "      <td>0</td>\n",
       "    </tr>\n",
       "    <tr>\n",
       "      <th>27</th>\n",
       "      <td>152000</td>\n",
       "      <td>3</td>\n",
       "      <td>72</td>\n",
       "      <td>0</td>\n",
       "      <td>0</td>\n",
       "      <td>1</td>\n",
       "    </tr>\n",
       "    <tr>\n",
       "      <th>28</th>\n",
       "      <td>397760</td>\n",
       "      <td>2</td>\n",
       "      <td>29</td>\n",
       "      <td>0</td>\n",
       "      <td>1</td>\n",
       "      <td>0</td>\n",
       "    </tr>\n",
       "    <tr>\n",
       "      <th>29</th>\n",
       "      <td>320000</td>\n",
       "      <td>2</td>\n",
       "      <td>31</td>\n",
       "      <td>0</td>\n",
       "      <td>1</td>\n",
       "      <td>0</td>\n",
       "    </tr>\n",
       "    <tr>\n",
       "      <th>30</th>\n",
       "      <td>353000</td>\n",
       "      <td>1</td>\n",
       "      <td>15</td>\n",
       "      <td>0</td>\n",
       "      <td>1</td>\n",
       "      <td>0</td>\n",
       "    </tr>\n",
       "  </tbody>\n",
       "</table>\n",
       "</div>"
      ],
      "text/plain": [
       "    Precio de Venta (pesos)  Antigüedad (en años)  Kilometraje (miles)  \\\n",
       "0                     60000                     9                  112   \n",
       "1                     54000                     9                  159   \n",
       "2                     59900                     8                  192   \n",
       "3                    110000                     7                   90   \n",
       "4                     79760                     7                   80   \n",
       "5                     78000                     7                  133   \n",
       "6                     56000                     7                  170   \n",
       "7                    136000                     6                  112   \n",
       "8                    125900                     6                  106   \n",
       "9                     74000                     6                   96   \n",
       "10                   149000                     5                   88   \n",
       "11                   136000                     5                  108   \n",
       "12                   135900                     5                  100   \n",
       "13                   129520                     5                   96   \n",
       "14                   129000                     5                   88   \n",
       "15                    96000                     5                  120   \n",
       "16                   193900                     4                   71   \n",
       "17                   193500                     4                   60   \n",
       "18                   191900                     4                   71   \n",
       "19                   170000                     4                   88   \n",
       "20                   159900                     4                   74   \n",
       "21                   139900                     4                   90   \n",
       "22                   129000                     4                  104   \n",
       "23                   287000                     3                   47   \n",
       "24                   239300                     3                   37   \n",
       "25                   237000                     3                   44   \n",
       "26                   220000                     3                   50   \n",
       "27                   152000                     3                   72   \n",
       "28                   397760                     2                   29   \n",
       "29                   320000                     2                   31   \n",
       "30                   353000                     1                   15   \n",
       "\n",
       "    Condición (Promedio)  Excelente  Único Dueño  \n",
       "0                      1          0            1  \n",
       "1                      0          0            1  \n",
       "2                      0          0            1  \n",
       "3                      1          0            0  \n",
       "4                      0          0            1  \n",
       "5                      0          0            1  \n",
       "6                      0          0            1  \n",
       "7                      0          1            0  \n",
       "8                      1          0            0  \n",
       "9                      0          0            1  \n",
       "10                     1          0            0  \n",
       "11                     0          0            1  \n",
       "12                     1          0            1  \n",
       "13                     0          0            1  \n",
       "14                     0          0            1  \n",
       "15                     0          0            1  \n",
       "16                     1          0            0  \n",
       "17                     0          1            0  \n",
       "18                     1          0            1  \n",
       "19                     1          0            1  \n",
       "20                     0          0            1  \n",
       "21                     0          0            1  \n",
       "22                     0          0            1  \n",
       "23                     0          1            0  \n",
       "24                     0          0            0  \n",
       "25                     0          1            0  \n",
       "26                     1          0            0  \n",
       "27                     0          0            1  \n",
       "28                     0          1            0  \n",
       "29                     0          1            0  \n",
       "30                     0          1            0  "
      ]
     },

     "execution_count": 3,

     "metadata": {},
     "output_type": "execute_result"
    }
   ],
   "source": [
    "import pandas as pd\n",
    "import matplotlib.pyplot as plt\n",
    "from sklearn import linear_model\n",
    "from sklearn.model_selection import train_test_split\n",
    "from sklearn.metrics import accuracy_score, mean_absolute_error\n",
    "from sklearn.preprocessing import PolynomialFeatures #Para funciones polinomiales\n",
    "\n",
    "df = pd.read_excel(\"Basededatos_SituacionProblemaE1.xlsx\")\n",
    "df"
   ]
  },
  {
   "cell_type": "code",
   "execution_count": 9,
   "id": "db07e7b2",
   "metadata": {},
   "outputs": [
    {
     "name": "stdout",
     "output_type": "stream",
     "text": [
      "r^2 = 76.11488076046545%\n"
     ]
    },
    {
     "data": {
      "image/png": "[encoded data removed]",
      "text/plain": [
       "<Figure size 432x288 with 1 Axes>"
      ]
     },
     "metadata": {
      "needs_background": "light"
     },
     "output_type": "display_data"
    }
   ],
   "source": [
    "X1 = df[[\"Antigüedad (en años)\"]]\n",
    "y1 = df[\"Precio de Venta (pesos)\"]\n",
    "\n",
    "modelo1 = linear_model.LinearRegression().fit(X1,y1)\n",
    "\n",
    "pred1 = modelo1.predict(X1)\n",
    "\n",
    "plt.scatter(df[\"Antigüedad (en años)\"],df[\"Precio de Venta (pesos)\"])\n",
    "plt.plot(X1,pred1,color = 'red')\n",
    "plt.title(\"Precio de venta con respecto a la antigüedad\",fontsize = 14)\n",
    "plt.xlabel(\"Antigüedad en años\")\n",
    "plt.ylabel(\"Precio de venta en pesos\")\n",
    "\n",
    "plt.text(10, 250000, 'y = ' + str(modelo1.coef_) + ' * x + ' + str(modelo1.intercept_) ,verticalalignment='center')\n",
    "\n",
    "r2_score_1 = modelo1.score(X1,y1)\n",
    "print(f\"r^2 = {r2_score_1*100}%\")"
   ]
  },
  {
   "cell_type": "code",
   "execution_count": 59,
   "id": "176567e6",
   "metadata": {},
   "outputs": [
    {
     "data": {
      "image/png": "[encoded data removed]",
      "text/plain": [
       "<Figure size 432x288 with 1 Axes>"
      ]
     },
     "metadata": {
      "needs_background": "light"
     },
     "output_type": "display_data"
    },
    {
     "name": "stdout",
     "output_type": "stream",
     "text": [
      "r^2 = 86.55469616300763%\n"
     ]
    }
   ],
   "source": [
    "poly = PolynomialFeatures(degree = 2)\n",
    "x_poly = poly.fit_transform(X1)\n",
    "\n",
    "lin_reg = linear_model.LinearRegression()\n",
    "lin_reg.fit(x_poly, y1)\n",
    "\n",
    "x_new = np.linspace(0, 9, 100).reshape(100, 1)\n",
    "x_new_poly = poly.transform(x_new)\n",
    "y_new = lin_reg.predict(x_new_poly)\n",
    "plt.plot(X1, y1, \"b.\")\n",
    "plt.plot(x_new, y_new, \"r-\", linewidth = 2, label =\"Predictions\")\n",
    "plt.xlabel(\"$x_1$\", fontsize = 18)\n",
    "plt.ylabel(\"$y$\", rotation = 0, fontsize = 18)\n",
    "plt.legend(loc =\"upper left\", fontsize = 14)\n",
    "  \n",
    "plt.title(\"Quadratic_predictions_plot\")\n",
    "plt.show()\n",
    "\n",
    "print(f\"r^2 = {lin_reg.score(x_poly,y1)*100}%\")"
   ]
  },
  {
   "cell_type": "code",
   "execution_count": 62,
   "id": "2711ad1d",
   "metadata": {},
   "outputs": [
    {
     "name": "stdout",
     "output_type": "stream",
     "text": [
      "r^2 = 86.29200830580277%\n"
     ]
    },
    {
     "data": {
      "image/png": "[encoded data removed]",
      "text/plain": [
       "<Figure size 432x288 with 1 Axes>"
      ]
     },
     "metadata": {
      "needs_background": "light"
     },
     "output_type": "display_data"
    }
   ],
   "source": [
    "from scipy.optimize import curve_fit\n",
    "\n",
    "def f(x,c,k):\n",
    "    return c*np.exp(k*x)\n",
    "\n",
    "xdata = np.linspace(0, 11, 50) #Útil para graficar la línea\n",
    "coeficientes, _ = curve_fit(f,X1.to_numpy()[:,0],y1.to_numpy())\n",
    "\n",
    "plt.plot(X1, y1, \"b.\")\n",
    "plt.plot(xdata, f(xdata,*coeficientes), \"r-\", linewidth = 2) #Gráficamos la línea usando los valores del linspace en la función\n",
    "\n",
    "#Cálculo de r^2\n",
    "residuals = y1 - f(X1.to_numpy()[:,0], *coeficientes)\n",
    "ss_res = np.sum(residuals**2)\n",
    "ss_tot = np.sum((y1-np.mean(y1))**2)\n",
    "r_squared = 1 - (ss_res / ss_tot)\n",
    "print(f\"r^2 = {r_squared*100}%\")"
   ]
  },
  {
   "cell_type": "code",
   "execution_count": 124,
   "id": "9dd8a725",
   "metadata": {},
   "outputs": [
    {
     "name": "stdout",
     "output_type": "stream",
     "text": [
      "r^2 = 73.37514809323193%\n"
     ]
    },
    {
     "data": {
      "image/png": "[encoded data removed]",
      "text/plain": [
       "<Figure size 432x288 with 1 Axes>"
      ]
     },
     "metadata": {
      "needs_background": "light"
     },
     "output_type": "display_data"
    }
   ],
   "source": [
    "X2 = df[[\"Kilometraje (miles)\"]]\n",
    "y2 = df[\"Precio de Venta (pesos)\"]\n",
    "\n",
    "modelo2 = linear_model.LinearRegression().fit(X2,y2)\n",
    "\n",
    "pred2 = modelo2.predict(X2)\n",
    "\n",
    "plt.scatter(df[\"Kilometraje (miles)\"],df[\"Precio de Venta (pesos)\"],label = \"Precio vs Kilometraje (miles)\")\n",
    "plt.plot(X2,pred2,color = 'red')\n",
    "plt.title(\"Precio de venta con respecto al kilometraje\",fontsize = 14)\n",
    "plt.xlabel(\"Kilometraje (en miles)\")\n",
    "plt.ylabel(\"Precio de venta en pesos\")\n",
    "\n",
    "plt.text(210, 250000, 'y = ' + str(modelo2.coef_) + ' * x + ' + str(modelo2.intercept_) ,verticalalignment='center')\n",
    "\n",
    "r2_score_2 = modelo2.score(X2,y2)\n",
    "print(f\"r^2 = {r2_score_2*100}%\")"
   ]
  },
  {
   "cell_type": "code",
   "execution_count": 125,
   "id": "265b66f8",
   "metadata": {},
   "outputs": [
    {
     "name": "stdout",
     "output_type": "stream",
     "text": [
      "r^2 = 81.12016839132411%\n"
     ]
    }
   ],
   "source": [
    "X_AK = df[[\"Kilometraje (miles)\",\"Antigüedad (en años)\"]]\n",
    "y_AK = df[\"Precio de Venta (pesos)\"]\n",
    "\n",
    "modelAK = linear_model.LinearRegression()\n",
    "modelAK.fit(X_AK,y_AK)\n",
    "\n",
    "r2_score_AK = modelAK.score(X_AK,y_AK)\n",
    "print(f\"r^2 = {r2_score_AK*100}%\")"
   ]
  },
  {
   "cell_type": "code",
   "execution_count": 4,
   "id": "89fa8341",
   "metadata": {},
   "outputs": [
    {
     "data": {
      "text/plain": [
       "LinearRegression()"
      ]
     },
     "execution_count": 4,
     "metadata": {},
     "output_type": "execute_result"
    }
   ],
   "source": [
    "X = df.drop(columns = [\"Precio de Venta (pesos)\"])\n",
    "y = df[\"Precio de Venta (pesos)\"]\n",
    "\n",
    "#X_train, X_test, y_train, y_test = train_test_split(X, y, test_size = 0.2,random_state = 42)\n",
    "\n",
    "model = linear_model.LinearRegression()\n",
    "model.fit(X,y)"
   ]
  },
  {
   "cell_type": "code",
   "execution_count": 5,
   "id": "f3efc074",
   "metadata": {},
   "outputs": [
    {
     "name": "stdout",
     "output_type": "stream",
     "text": [
      "r^2 = 89.64284060297382%\n"
     ]
    }
   ],
   "source": [
    "r2_score = model.score(X,y)\n",
    "print(f\"r^2 = {r2_score*100}%\")"
   ]
  },
  {
   "cell_type": "code",
   "execution_count": 6,
   "id": "c1c82343",
   "metadata": {},
   "outputs": [
    {
     "data": {
      "text/plain": [
       "'/Users/ArmandoTerrazasGomez/Documents/Universidad/Semestre 2/Análisis Estadístico/RetoEtapa1'"
      ]
     },
     "execution_count": 6,
     "metadata": {},
     "output_type": "execute_result"
    }
   ],
   "source": [
    "pwd"
   ]
  }
 ],
 "metadata": {
  "kernelspec": {
   "display_name": "Python 3 (ipykernel)",
   "language": "python",
   "name": "python3"
  },
  "language_info": {
   "codemirror_mode": {
    "name": "ipython",
    "version": 3
   },
   "file_extension": ".py",
   "mimetype": "text/x-python",
   "name": "python",
   "nbconvert_exporter": "python",
   "pygments_lexer": "ipython3",
   "version": "3.9.7"
  }
 },
 "nbformat": 4,
 "nbformat_minor": 5
}
